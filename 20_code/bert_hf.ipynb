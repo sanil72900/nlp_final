{
 "cells": [
  {
   "cell_type": "code",
   "execution_count": 1,
   "metadata": {},
   "outputs": [
    {
     "name": "stderr",
     "output_type": "stream",
     "text": [
      "The cache for model files in Transformers v4.22.0 has been updated. Migrating your old cache. This is a one-time only operation. You can interrupt this and resume the migration later on by calling `transformers.utils.move_cache()`.\n"
     ]
    },
    {
     "name": "stdout",
     "output_type": "stream",
     "text": [
      "Moving 0 files to the new cache system\n"
     ]
    },
    {
     "data": {
      "application/vnd.jupyter.widget-view+json": {
       "model_id": "799b673abf4c4336a98eb06ff5f4e419",
       "version_major": 2,
       "version_minor": 0
      },
      "text/plain": [
       "0it [00:00, ?it/s]"
      ]
     },
     "metadata": {},
     "output_type": "display_data"
    },
    {
     "data": {
      "application/vnd.jupyter.widget-view+json": {
       "model_id": "3e4944185bba4a8bbd1a713e2a87d8f0",
       "version_major": 2,
       "version_minor": 0
      },
      "text/plain": [
       "Downloading:   0%|          | 0.00/268M [00:00<?, ?B/s]"
      ]
     },
     "metadata": {},
     "output_type": "display_data"
    },
    {
     "ename": "",
     "evalue": "",
     "output_type": "error",
     "traceback": [
      "\u001b[1;31mCanceled future for execute_request message before replies were done"
     ]
    },
    {
     "ename": "",
     "evalue": "",
     "output_type": "error",
     "traceback": [
      "\u001b[1;31mThe Kernel crashed while executing code in the the current cell or a previous cell. Please review the code in the cell(s) to identify a possible cause of the failure. Click <a href='https://aka.ms/vscodeJupyterKernelCrash'>here</a> for more info. View Jupyter <a href='command:jupyter.viewOutput'>log</a> for further details."
     ]
    }
   ],
   "source": [
    "import pandas as pd\n",
    "from sklearn.model_selection import train_test_split\n",
    "from sklearn.metrics import precision_recall_fscore_support, accuracy_score\n",
    "import torch\n",
    "from transformers import (\n",
    "    DistilBertTokenizerFast,\n",
    "    DistilBertForSequenceClassification,\n",
    "    Trainer,\n",
    "    TrainingArguments,\n",
    ")\n",
    "\n",
    "# train test split\n",
    "def read_reddit_split(reddit_csv):\n",
    "    df = pd.read_csv(reddit_csv)\n",
    "    texts = df[\"clean_text\"].tolist()\n",
    "    labels = df[\"label\"].tolist()\n",
    "    # 80% train, 10% test, 10% valid\n",
    "    train_texts, test_texts, train_labels, test_labels = train_test_split(\n",
    "        texts, labels, test_size=0.2, stratify=labels\n",
    "    )\n",
    "    train_texts, val_texts, train_labels, val_labels = train_test_split(\n",
    "        train_texts, train_labels, test_size=1.0 / 8.0, stratify=train_labels\n",
    "    )\n",
    "    print(f\"size of train data is {len(train_texts)}\")\n",
    "    print(f\"size of test data is {len(test_texts)}\")\n",
    "    print(f\"size of valid data is {len(val_texts)}\")\n",
    "    return train_texts, test_texts, val_texts, train_labels, test_labels, val_labels\n",
    "\n",
    "\n",
    "# tokenize data\n",
    "def tokenize_data(train_texts, test_texts, val_texts, tokenizer):\n",
    "    train_enc = tokenizer(train_texts, truncation=True, padding=True)\n",
    "    test_enc = tokenizer(test_texts, truncation=True, padding=True)\n",
    "    valid_enc = tokenizer(val_texts, truncation=True, padding=True)\n",
    "    return train_enc, test_enc, valid_enc\n",
    "\n",
    "\n",
    "# convert to Dataset object\n",
    "class SentimentDataset(torch.utils.data.Dataset):\n",
    "    def __init__(self, encodings, labels):\n",
    "        self.encodings = encodings\n",
    "        self.labels = labels\n",
    "\n",
    "    def __getitem__(self, idx):\n",
    "        item = {key: torch.tensor(val[idx]) for key, val in self.encodings.items()}\n",
    "        item[\"labels\"] = torch.tensor(self.labels[idx])\n",
    "        return item\n",
    "\n",
    "    def __len__(self):\n",
    "        return len(self.labels)\n",
    "\n",
    "\n",
    "def compute_metrics(pred):\n",
    "    labels = pred.label_ids\n",
    "    preds = pred.predictions.argmax(-1)\n",
    "    precision, recall, f1, _ = precision_recall_fscore_support(\n",
    "        labels, preds, average=\"binary\"\n",
    "    )\n",
    "    acc = accuracy_score(labels, preds)\n",
    "    return {\"accuracy\": acc, \"f1\": f1, \"precision\": precision, \"recall\": recall}\n",
    "\n",
    "\n",
    "# run on main\n",
    "if __name__ == \"__main__\":\n",
    "    # tokenizer\n",
    "    bert_tokenizer = DistilBertTokenizerFast.from_pretrained(\"distilbert-base-uncased\")\n",
    "    # model\n",
    "    model = DistilBertForSequenceClassification.from_pretrained(\n",
    "        \"distilbert-base-uncased\"\n",
    "    )\n",
    "    # read data\n",
    "    x_train, x_test, x_valid, y_train, y_test, y_valid = read_reddit_split(\n",
    "        \"../10_cleaned_data/processed_text.csv\"\n",
    "    )\n",
    "\n",
    "    # tokenize data\n",
    "    train_encodings, test_encodings, valid_encodings = tokenize_data(\n",
    "        x_train, x_test, x_valid, bert_tokenizer\n",
    "    )\n",
    "\n",
    "    train_dataset = SentimentDataset(train_encodings, y_train)\n",
    "    test_dataset = SentimentDataset(test_encodings, y_test)\n",
    "    val_dataset = SentimentDataset(valid_encodings, y_valid)\n",
    "\n",
    "    # fine-tune BERT model\n",
    "    training_args = TrainingArguments(\n",
    "        output_dir=\"./results\",  # output directory\n",
    "        num_train_epochs=3,  # total number of training epochs\n",
    "        per_device_train_batch_size=16,  # batch size per device during training\n",
    "        per_device_eval_batch_size=64,  # batch size for evaluation\n",
    "        warmup_steps=500,  # number of warmup steps for learning rate scheduler\n",
    "        weight_decay=0.01,  # strength of weight decay\n",
    "        logging_dir=\"./logs\",  # directory for storing logs\n",
    "        logging_steps=10,\n",
    "    )\n",
    "\n",
    "    trainer = Trainer(\n",
    "        model=model,  # the instantiated 🤗 Transformers model to be trained\n",
    "        args=training_args,  # training arguments, defined above\n",
    "        train_dataset=train_dataset,  # training dataset\n",
    "        eval_dataset=val_dataset,  # evaluation dataset\n",
    "        compute_metrics=compute_metrics,  # compute metrics\n",
    "    )\n",
    "\n",
    "    trainer.train()\n",
    "\n",
    "    # test model\n",
    "    trainer.evaluate(test_dataset)\n",
    "\n",
    "    # save model\n",
    "    trainer.save_model(\"./models\")\n",
    "    # save tokenizer\n",
    "    bert_tokenizer.save_pretrained(\"./models\")"
   ]
  },
  {
   "cell_type": "code",
   "execution_count": null,
   "metadata": {},
   "outputs": [],
   "source": []
  }
 ],
 "metadata": {
  "kernelspec": {
   "display_name": "Python 3",
   "language": "python",
   "name": "python3"
  },
  "language_info": {
   "codemirror_mode": {
    "name": "ipython",
    "version": 3
   },
   "file_extension": ".py",
   "mimetype": "text/x-python",
   "name": "python",
   "nbconvert_exporter": "python",
   "pygments_lexer": "ipython3",
   "version": "3.10.4 (main, Nov 29 2022, 20:00:25) [GCC 9.4.0]"
  },
  "orig_nbformat": 4,
  "vscode": {
   "interpreter": {
    "hash": "3ad933181bd8a04b432d3370b9dc3b0662ad032c4dfaa4e4f1596c548f763858"
   }
  }
 },
 "nbformat": 4,
 "nbformat_minor": 2
}
