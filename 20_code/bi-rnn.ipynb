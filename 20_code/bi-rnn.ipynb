{
 "cells": [
  {
   "cell_type": "code",
   "execution_count": 1,
   "metadata": {},
   "outputs": [
    {
     "name": "stderr",
     "output_type": "stream",
     "text": [
      "2022-12-19 05:37:16.043959: I tensorflow/core/platform/cpu_feature_guard.cc:193] This TensorFlow binary is optimized with oneAPI Deep Neural Network Library (oneDNN) to use the following CPU instructions in performance-critical operations:  AVX2 AVX512F FMA\n",
      "To enable them in other operations, rebuild TensorFlow with the appropriate compiler flags.\n",
      "2022-12-19 05:37:16.663706: W tensorflow/compiler/xla/stream_executor/platform/default/dso_loader.cc:64] Could not load dynamic library 'libcudart.so.11.0'; dlerror: libcudart.so.11.0: cannot open shared object file: No such file or directory\n",
      "2022-12-19 05:37:16.663728: I tensorflow/compiler/xla/stream_executor/cuda/cudart_stub.cc:29] Ignore above cudart dlerror if you do not have a GPU set up on your machine.\n",
      "2022-12-19 05:37:18.087477: W tensorflow/compiler/xla/stream_executor/platform/default/dso_loader.cc:64] Could not load dynamic library 'libnvinfer.so.7'; dlerror: libnvinfer.so.7: cannot open shared object file: No such file or directory\n",
      "2022-12-19 05:37:18.087584: W tensorflow/compiler/xla/stream_executor/platform/default/dso_loader.cc:64] Could not load dynamic library 'libnvinfer_plugin.so.7'; dlerror: libnvinfer_plugin.so.7: cannot open shared object file: No such file or directory\n",
      "2022-12-19 05:37:18.087593: W tensorflow/compiler/tf2tensorrt/utils/py_utils.cc:38] TF-TRT Warning: Cannot dlopen some TensorRT libraries. If you would like to use Nvidia GPU with TensorRT, please make sure the missing libraries mentioned above are installed properly.\n"
     ]
    }
   ],
   "source": [
    "import pandas as pd\n",
    "from keras.models import Sequential\n",
    "from keras import layers\n",
    "from keras import regularizers\n",
    "from keras import backend as K\n",
    "from keras.callbacks import ModelCheckpoint\n",
    "from keras.preprocessing.text import Tokenizer\n",
    "from keras.utils import pad_sequences"
   ]
  },
  {
   "cell_type": "code",
   "execution_count": 2,
   "metadata": {},
   "outputs": [],
   "source": [
    "all_data = pd.read_csv('../10_cleaned_data/processed_text.csv')\n",
    "all_text = all_data['clean_text']\n",
    "\n",
    "#all_data = pd.read_csv('../00_source_data/synthetic_data_50k.csv')\n",
    "#all_text = all_data['text']"
   ]
  },
  {
   "cell_type": "code",
   "execution_count": 3,
   "metadata": {},
   "outputs": [
    {
     "name": "stdout",
     "output_type": "stream",
     "text": [
      "[[   0    0    0 ...  153   52  434]\n",
      " [   0    0    0 ...    1 2046   57]\n",
      " [   0    0    0 ...   78   51  193]\n",
      " ...\n",
      " [   0    0    0 ...   16   10   32]\n",
      " [   0    0    0 ...  173   14   87]\n",
      " [   0    0    0 ...    0   56   41]]\n"
     ]
    }
   ],
   "source": [
    "max_words = 5000\n",
    "max_len = 200\n",
    "\n",
    "tokenizer = Tokenizer(num_words=max_words)\n",
    "tokenizer.fit_on_texts(all_text)\n",
    "sequences = tokenizer.texts_to_sequences(all_text)\n",
    "reviews = pad_sequences(sequences, maxlen=max_len)\n",
    "print(reviews)"
   ]
  },
  {
   "cell_type": "code",
   "execution_count": 4,
   "metadata": {},
   "outputs": [],
   "source": [
    "from keras.layers import Embedding\n",
    "embedding_layer = Embedding(1000, 64)"
   ]
  },
  {
   "cell_type": "code",
   "execution_count": 5,
   "metadata": {},
   "outputs": [],
   "source": [
    "data = pd.read_csv('../10_cleaned_data/processed_text.csv')\n",
    "#data = pd.read_csv('../00_source_data/synthetic_data_50k.csv')\n",
    "\n",
    "from sklearn.model_selection import train_test_split\n",
    "#X = data['clean_text']\n",
    "Y = data['label']\n",
    "X_train, X_test, Y_train, Y_test = train_test_split(reviews, Y, test_size = 0.2, random_state = 42)"
   ]
  },
  {
   "cell_type": "code",
   "execution_count": 6,
   "metadata": {},
   "outputs": [
    {
     "name": "stderr",
     "output_type": "stream",
     "text": [
      "2022-12-19 05:37:24.179708: W tensorflow/compiler/xla/stream_executor/platform/default/dso_loader.cc:64] Could not load dynamic library 'libcuda.so.1'; dlerror: libcuda.so.1: cannot open shared object file: No such file or directory\n",
      "2022-12-19 05:37:24.179737: W tensorflow/compiler/xla/stream_executor/cuda/cuda_driver.cc:265] failed call to cuInit: UNKNOWN ERROR (303)\n",
      "2022-12-19 05:37:24.179755: I tensorflow/compiler/xla/stream_executor/cuda/cuda_diagnostics.cc:156] kernel driver does not appear to be running on this host (codespaces-a029c5): /proc/driver/nvidia/version does not exist\n",
      "2022-12-19 05:37:24.500890: I tensorflow/core/platform/cpu_feature_guard.cc:193] This TensorFlow binary is optimized with oneAPI Deep Neural Network Library (oneDNN) to use the following CPU instructions in performance-critical operations:  AVX2 AVX512F FMA\n",
      "To enable them in other operations, rebuild TensorFlow with the appropriate compiler flags.\n"
     ]
    },
    {
     "name": "stdout",
     "output_type": "stream",
     "text": [
      "Model: \"sequential\"\n",
      "_________________________________________________________________\n",
      " Layer (type)                Output Shape              Param #   \n",
      "=================================================================\n",
      " embedding_1 (Embedding)     (None, 200, 64)           1607424   \n",
      "                                                                 \n",
      " bidirectional (Bidirectiona  (None, 200, 128)         66048     \n",
      " l)                                                              \n",
      "                                                                 \n",
      " dropout (Dropout)           (None, 200, 128)          0         \n",
      "                                                                 \n",
      " bidirectional_1 (Bidirectio  (None, 64)               41216     \n",
      " nal)                                                            \n",
      "                                                                 \n",
      " dropout_1 (Dropout)         (None, 64)                0         \n",
      "                                                                 \n",
      " dense (Dense)               (None, 64)                4160      \n",
      "                                                                 \n",
      " dropout_2 (Dropout)         (None, 64)                0         \n",
      "                                                                 \n",
      " dense_1 (Dense)             (None, 1)                 65        \n",
      "                                                                 \n",
      "=================================================================\n",
      "Total params: 1,718,913\n",
      "Trainable params: 1,718,913\n",
      "Non-trainable params: 0\n",
      "_________________________________________________________________\n"
     ]
    }
   ],
   "source": [
    "import tensorflow as tf\n",
    "from tensorflow.keras.optimizers import Adam\n",
    "from tensorflow.keras.models import Sequential\n",
    "from spacy.lang.en.stop_words import STOP_WORDS\n",
    "from tensorflow.keras.preprocessing.text import Tokenizer\n",
    "from tensorflow.keras.preprocessing.sequence import pad_sequences\n",
    "from tensorflow.keras.layers.experimental.preprocessing import TextVectorization\n",
    "from tensorflow.keras.layers import Embedding, LSTM, Dense, Bidirectional, Dropout\n",
    "vocab_size = len(tokenizer.word_index) + 1\n",
    "model = Sequential()\n",
    "model.add(Embedding(vocab_size, 64, input_length=max_len))\n",
    "model.add(Bidirectional(LSTM(64, return_sequences=True, input_shape=(None, 1))))\n",
    "model.add(Dropout(0.2))\n",
    "model.add(Bidirectional(LSTM(32)))\n",
    "model.add(Dropout(0.2))\n",
    "model.add(Dense(64, activation='relu'))\n",
    "model.add(Dropout(0.1))\n",
    "model.add(Dense(1, activation='sigmoid'))\n",
    "adam = Adam(learning_rate=0.01)\n",
    "model.compile(\n",
    "    loss=tf.keras.losses.BinaryCrossentropy(from_logits=True), \n",
    "    optimizer=adam, \n",
    "    metrics=['accuracy']\n",
    ")\n",
    "model.summary()"
   ]
  },
  {
   "cell_type": "code",
   "execution_count": 7,
   "metadata": {},
   "outputs": [
    {
     "name": "stdout",
     "output_type": "stream",
     "text": [
      "Epoch 1/10\n"
     ]
    },
    {
     "name": "stderr",
     "output_type": "stream",
     "text": [
      "/home/codespace/.venv/lib/python3.10/site-packages/keras/backend.py:5676: UserWarning: \"`binary_crossentropy` received `from_logits=True`, but the `output` argument was produced by a Sigmoid activation and thus does not represent logits. Was this intended?\n",
      "  output, from_logits = _get_logits(\n"
     ]
    },
    {
     "name": "stdout",
     "output_type": "stream",
     "text": [
      "355/355 [==============================] - 51s 130ms/step - loss: 0.3866 - accuracy: 0.8365\n",
      "Epoch 2/10\n",
      "355/355 [==============================] - 47s 131ms/step - loss: 0.2568 - accuracy: 0.9077\n",
      "Epoch 3/10\n",
      "355/355 [==============================] - 48s 134ms/step - loss: 0.2086 - accuracy: 0.9264\n",
      "Epoch 4/10\n",
      "355/355 [==============================] - 48s 134ms/step - loss: 0.1783 - accuracy: 0.9381\n",
      "Epoch 5/10\n",
      "355/355 [==============================] - 48s 135ms/step - loss: 0.1640 - accuracy: 0.9426\n",
      "Epoch 6/10\n",
      "355/355 [==============================] - 48s 135ms/step - loss: 0.1453 - accuracy: 0.9499\n",
      "Epoch 7/10\n",
      "355/355 [==============================] - 48s 134ms/step - loss: 0.1322 - accuracy: 0.9550\n",
      "Epoch 8/10\n",
      "355/355 [==============================] - 48s 134ms/step - loss: 0.1304 - accuracy: 0.9550\n",
      "Epoch 9/10\n",
      "355/355 [==============================] - 48s 134ms/step - loss: 0.1183 - accuracy: 0.9583\n",
      "Epoch 10/10\n",
      "355/355 [==============================] - 48s 135ms/step - loss: 0.1123 - accuracy: 0.9617\n"
     ]
    }
   ],
   "source": [
    "history = model.fit(X_train, Y_train.values, epochs=10, verbose=1, batch_size=64)"
   ]
  },
  {
   "cell_type": "code",
   "execution_count": 8,
   "metadata": {},
   "outputs": [
    {
     "data": {
      "image/png": "[encoded data removed]",
      "text/plain": [
       "<Figure size 640x480 with 1 Axes>"
      ]
     },
     "metadata": {},
     "output_type": "display_data"
    }
   ],
   "source": [
    "import matplotlib.pyplot as plt\n",
    "fig = plt.plot(history.history['accuracy'])\n",
    "title = plt.title(\"History of Accuracy across Epochs (real data)\")\n",
    "xlabel = plt.xlabel(\"Epochs\")\n",
    "ylabel = plt.ylabel(\"Accuracy\")"
   ]
  },
  {
   "cell_type": "code",
   "execution_count": 9,
   "metadata": {},
   "outputs": [
    {
     "name": "stdout",
     "output_type": "stream",
     "text": [
      "1/1 [==============================] - 1s 1s/step\n",
      "0.002185199\n",
      "0.016225765\n",
      "0.007425729\n",
      "0.00012555583\n",
      "0    0\n",
      "1    0\n",
      "2    0\n",
      "3    0\n",
      "Name: label, dtype: int64\n"
     ]
    }
   ],
   "source": [
    "predictions = model.predict(reviews[:4])\n",
    "for pred in predictions:\n",
    "    print(pred[0])\n",
    "print(data[:4]['label'])"
   ]
  },
  {
   "cell_type": "code",
   "execution_count": 10,
   "metadata": {},
   "outputs": [
    {
     "name": "stdout",
     "output_type": "stream",
     "text": [
      "178/178 [==============================] - 5s 30ms/step\n"
     ]
    },
    {
     "data": {
      "text/plain": [
       "array([[9.9660712e-01],\n",
       "       [1.1736976e-03],\n",
       "       [1.5720630e-04],\n",
       "       ...,\n",
       "       [9.9932826e-01],\n",
       "       [4.6561223e-02],\n",
       "       [9.9859399e-01]], dtype=float32)"
      ]
     },
     "execution_count": 10,
     "metadata": {},
     "output_type": "execute_result"
    }
   ],
   "source": [
    "model.predict(X_test)"
   ]
  },
  {
   "cell_type": "code",
   "execution_count": 11,
   "metadata": {},
   "outputs": [
    {
     "name": "stderr",
     "output_type": "stream",
     "text": [
      "/home/codespace/.venv/lib/python3.10/site-packages/keras/backend.py:5676: UserWarning: \"`binary_crossentropy` received `from_logits=True`, but the `output` argument was produced by a Sigmoid activation and thus does not represent logits. Was this intended?\n",
      "  output, from_logits = _get_logits(\n"
     ]
    },
    {
     "name": "stdout",
     "output_type": "stream",
     "text": [
      "accuracy: 87.68%\n"
     ]
    }
   ],
   "source": [
    "cvscores = []\n",
    "\n",
    "scores = model.evaluate(X_test, Y_test, verbose=0)\n",
    "print(\"%s: %.2f%%\" % (model.metrics_names[1], scores[1]*100))\n",
    "cvscores.append(scores[1] * 100)"
   ]
  },
  {
   "cell_type": "code",
   "execution_count": 12,
   "metadata": {},
   "outputs": [
    {
     "data": {
      "text/plain": [
       "['loss', 'accuracy']"
      ]
     },
     "execution_count": 12,
     "metadata": {},
     "output_type": "execute_result"
    }
   ],
   "source": [
    "model.metrics_names"
   ]
  },
  {
   "cell_type": "code",
   "execution_count": null,
   "metadata": {},
   "outputs": [],
   "source": []
  }
 ],
 "metadata": {
  "kernelspec": {
   "display_name": ".venv",
   "language": "python",
   "name": "python3"
  },
  "language_info": {
   "codemirror_mode": {
    "name": "ipython",
    "version": 3
   },
   "file_extension": ".py",
   "mimetype": "text/x-python",
   "name": "python",
   "nbconvert_exporter": "python",
   "pygments_lexer": "ipython3",
   "version": "3.10.4"
  },
  "orig_nbformat": 4,
  "vscode": {
   "interpreter": {
    "hash": "3c2321983f3f2a9a4b2f7cb57dd53ceacb7cbd847cefb98906c9dc811c9d3985"
   }
  }
 },
 "nbformat": 4,
 "nbformat_minor": 2
}
